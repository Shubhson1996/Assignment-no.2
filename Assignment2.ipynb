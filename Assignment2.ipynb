{
 "cells": [
  {
   "cell_type": "code",
   "execution_count": null,
   "metadata": {},
   "outputs": [],
   "source": [
    "1.\n",
    "#Accept marks from the user and display the grade.\n",
    "marks = int(input(\"Enter your marks:\"))\n",
    "if marks > 90:\n",
    "    print(\"You got Grade: A\")\n",
    "elif marks >80 and marks<= 90:\n",
    "    print(\"You got Grade: B\")\n",
    "elif marks >=60 and marks<=80:\n",
    "    print(\"You got Grade: C\")\n",
    "elif marks < 60:\n",
    "    print(\"You got Grade: D\")"
   ]
  },
  {
   "cell_type": "code",
   "execution_count": null,
   "metadata": {},
   "outputs": [],
   "source": [
    "2.\n",
    "#Accept the cost price of a bike and display the tax to be paid. \n",
    "price= int(input(\"Enter the cost price of a bike:\"))\n",
    "if price > 100000:\n",
    "    print(\"15% road tax to be paid.\")\n",
    "elif price > 50000 and price <=100000:\n",
    "    print(\"10% road tax to be paid.\")\n",
    "elif price <= 50000:\n",
    "    print(\"5% road tax to be paid.\")"
   ]
  },
  {
   "cell_type": "code",
   "execution_count": 6,
   "metadata": {},
   "outputs": [],
   "source": [
    "3.\n",
    "#Accept any city from the user and display the monuments.\n",
    "city= input(\"Enter the city name(Delhi,Agra,Jaipur):\")\n",
    "if city == \"Delhi\":\n",
    "    print(\"Monument in Delhi is Red Fort.\")\n",
    "elif city == \"Agra\":\n",
    "    print(\"Monument in Agra is Taj Mahal.\")\n",
    "elif city == \"Jaipur\":\n",
    "    print(\"Monument in Jaipur is Jal Mahal.\")"
   ]
  },
  {
   "cell_type": "code",
   "execution_count": 1,
   "metadata": {},
   "outputs": [
    {
     "name": "stdout",
     "output_type": "stream",
     "text": [
      "2\n"
     ]
    }
   ],
   "source": [
    "4.\n",
    "#How many times a given number can be divided by 3 before it is less than or equal to 10.\n",
    "number= int(input(\"Enter the number:\"))\n",
    "i=0\n",
    "while number >10:\n",
    "    number= number/3\n",
    "    i=i+1\n",
    "print(i)\n"
   ]
  },
  {
   "attachments": {},
   "cell_type": "markdown",
   "metadata": {},
   "source": [
    "5.\n",
    "  While loop is used to run a block code until a certain condition is met. Here, A while loop evaluates the condition. If the condition evaluates to True , the code inside the while loop is executed."
   ]
  },
  {
   "cell_type": "code",
   "execution_count": null,
   "metadata": {},
   "outputs": [],
   "source": [
    "#Print i as long as i is less than and equal to 10.\n",
    "i = 1\n",
    "while i <= 10:\n",
    "    print(i)\n",
    "    i= i+1\n"
   ]
  },
  {
   "attachments": {},
   "cell_type": "markdown",
   "metadata": {},
   "source": [
    "  The while loop requires relevent variables to be ready, in this example we need to define an indexing variable i, which we set to 1. remember to increment i, or else the loop will continue forever. "
   ]
  },
  {
   "cell_type": "code",
   "execution_count": null,
   "metadata": {},
   "outputs": [],
   "source": [
    "6.\n",
    "(1)#nested while loop to print pattern.\n",
    "num= int(input(\"enter the number of rows:\"))\n",
    "rows= 0\n",
    "while rows<num:\n",
    "    star = rows +1\n",
    "    while star >0:\n",
    "        print(\"*\",end=\" \")\n",
    "        star=star-1\n",
    "    rows= rows+1\n",
    "    print()    "
   ]
  },
  {
   "cell_type": "code",
   "execution_count": null,
   "metadata": {},
   "outputs": [],
   "source": [
    "(2)#nested while loop to print pattern.\n",
    "num= int(input(\"enter the number of rows:\"))\n",
    "rows= 0\n",
    "while rows<num:\n",
    "    space = (num-1)-rows\n",
    "    while space>0:\n",
    "        print(\" \",end=\" \")\n",
    "        space= space-1\n",
    "    star=rows +1\n",
    "    while star >0:\n",
    "        print(\"*\",end=\" \")\n",
    "        star=star-1\n",
    "    rows= rows+1\n",
    "    print()"
   ]
  },
  {
   "cell_type": "code",
   "execution_count": null,
   "metadata": {},
   "outputs": [],
   "source": [
    "(3)#nested while loop to print pattern.\n",
    "num= int(input(\"enter the number of rows:\"))\n",
    "rows= 0\n",
    "while rows<num:\n",
    "    space = (num-rows-1)\n",
    "    while space>0:\n",
    "        print(end=\" \")\n",
    "        space= space-1\n",
    "    star=rows +1\n",
    "    while star >0:\n",
    "        print(\"*\",end=\" \")\n",
    "        star=star-1\n",
    "    rows= rows+1\n",
    "    print()"
   ]
  },
  {
   "cell_type": "code",
   "execution_count": null,
   "metadata": {},
   "outputs": [],
   "source": [
    "7.\n",
    "#A while loop to display number from 10 to 1.\n",
    "numbers =10\n",
    "while numbers>=1:\n",
    "    print(numbers)\n",
    "    numbers= numbers-1"
   ]
  },
  {
   "cell_type": "code",
   "execution_count": null,
   "metadata": {},
   "outputs": [],
   "source": [
    "8.\n",
    "#A while loop to display number from 10 to 1.\n",
    "numbers =10\n",
    "while numbers>=1:\n",
    "    print(numbers)\n",
    "    numbers= numbers-1"
   ]
  },
  {
   "cell_type": "code",
   "execution_count": null,
   "metadata": {},
   "outputs": [],
   "source": []
  }
 ],
 "metadata": {
  "kernelspec": {
   "display_name": "Python 3",
   "language": "python",
   "name": "python3"
  },
  "language_info": {
   "codemirror_mode": {
    "name": "ipython",
    "version": 3
   },
   "file_extension": ".py",
   "mimetype": "text/x-python",
   "name": "python",
   "nbconvert_exporter": "python",
   "pygments_lexer": "ipython3",
   "version": "3.11.1"
  },
  "orig_nbformat": 4,
  "vscode": {
   "interpreter": {
    "hash": "6662073f3bde6be334dec329a6c9947da37b6bb749f0724ccca866176f72e3b8"
   }
  }
 },
 "nbformat": 4,
 "nbformat_minor": 2
}
